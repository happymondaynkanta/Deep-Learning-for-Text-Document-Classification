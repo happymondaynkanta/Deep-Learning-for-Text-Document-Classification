{
 "cells": [
  {
   "cell_type": "code",
   "execution_count": 1,
   "metadata": {
    "collapsed": false
   },
   "outputs": [
    {
     "name": "stderr",
     "output_type": "stream",
     "text": [
      "Using TensorFlow backend.\n",
      "C:\\Users\\tghosh\\AppData\\Local\\Continuum\\Anaconda3\\lib\\site-packages\\gensim\\utils.py:862: UserWarning: detected Windows; aliasing chunkize to chunkize_serial\n",
      "  warnings.warn(\"detected Windows; aliasing chunkize to chunkize_serial\")\n"
     ]
    }
   ],
   "source": [
    "import config\n",
    "from dataloader.loader import Loader\n",
    "import pandas as pd\n",
    "from gensim.models import word2vec\n",
    "import nltk\n"
   ]
  },
  {
   "cell_type": "code",
   "execution_count": 2,
   "metadata": {
    "collapsed": false
   },
   "outputs": [],
   "source": [
    "#unsupervised = Loader.load_imdb_unsup()\n",
    "unsupervised = pd.read_csv(config.IMDB_DATA_CSV + '/movie_reviews_unsup.csv', encoding='ISO-8859-1')"
   ]
  },
  {
   "cell_type": "code",
   "execution_count": 3,
   "metadata": {
    "collapsed": false
   },
   "outputs": [
    {
     "data": {
      "text/html": [
       "<div>\n",
       "<table border=\"1\" class=\"dataframe\">\n",
       "  <thead>\n",
       "    <tr style=\"text-align: right;\">\n",
       "      <th></th>\n",
       "      <th>Unnamed: 0</th>\n",
       "      <th>review</th>\n",
       "    </tr>\n",
       "  </thead>\n",
       "  <tbody>\n",
       "    <tr>\n",
       "      <th>0</th>\n",
       "      <td>41353</td>\n",
       "      <td>If you listen closely, you can catch sublimina...</td>\n",
       "    </tr>\n",
       "    <tr>\n",
       "      <th>1</th>\n",
       "      <td>21919</td>\n",
       "      <td>Tweety is perched in his cage on the ledge and...</td>\n",
       "    </tr>\n",
       "    <tr>\n",
       "      <th>2</th>\n",
       "      <td>46492</td>\n",
       "      <td>I love action movies. Die Hard, Lethal Wepon, ...</td>\n",
       "    </tr>\n",
       "    <tr>\n",
       "      <th>3</th>\n",
       "      <td>2478</td>\n",
       "      <td>I know that title isn't very descriptive, but ...</td>\n",
       "    </tr>\n",
       "    <tr>\n",
       "      <th>4</th>\n",
       "      <td>37290</td>\n",
       "      <td>Sadly, this film is a laugh-less failure (minu...</td>\n",
       "    </tr>\n",
       "  </tbody>\n",
       "</table>\n",
       "</div>"
      ],
      "text/plain": [
       "   Unnamed: 0                                             review\n",
       "0       41353  If you listen closely, you can catch sublimina...\n",
       "1       21919  Tweety is perched in his cage on the ledge and...\n",
       "2       46492  I love action movies. Die Hard, Lethal Wepon, ...\n",
       "3        2478  I know that title isn't very descriptive, but ...\n",
       "4       37290  Sadly, this film is a laugh-less failure (minu..."
      ]
     },
     "execution_count": 3,
     "metadata": {},
     "output_type": "execute_result"
    }
   ],
   "source": [
    "unsupervised.head()\n",
    "\n"
   ]
  },
  {
   "cell_type": "code",
   "execution_count": 4,
   "metadata": {
    "collapsed": false
   },
   "outputs": [],
   "source": [
    "train_df = pd.read_csv(config.IMDB_DATA_CSV + '/movie_reviews_train.csv', encoding='ISO-8859-1')\n",
    "test_df = pd.read_csv(config.IMDB_DATA_CSV + '/movie_reviews_test.csv', encoding='ISO-8859-1')"
   ]
  },
  {
   "cell_type": "code",
   "execution_count": 12,
   "metadata": {
    "collapsed": true
   },
   "outputs": [],
   "source": [
    "corpus = unsupervised['review'].tolist() + train_df['review'].tolist() + test_df['review'].tolist()"
   ]
  },
  {
   "cell_type": "code",
   "execution_count": 18,
   "metadata": {
    "collapsed": false
   },
   "outputs": [],
   "source": [
    "# tokenize sentences in corpus\n",
    "wpt = nltk.WordPunctTokenizer()\n",
    "tokenized_corpus = [wpt.tokenize(document.lower()) for document in corpus]"
   ]
  },
  {
   "cell_type": "code",
   "execution_count": 20,
   "metadata": {
    "collapsed": true
   },
   "outputs": [],
   "source": [
    "# Set values for various parameters\n",
    "feature_size = 50    # Word vector dimensionality  \n",
    "window_context = 10          # Context window size                                                                                    \n",
    "min_word_count = 5   # Minimum word count                        \n",
    "sample = 1e-3   # Downsample setting for frequent words"
   ]
  },
  {
   "cell_type": "code",
   "execution_count": 21,
   "metadata": {
    "collapsed": true
   },
   "outputs": [],
   "source": [
    "w2v_model = word2vec.Word2Vec(tokenized_corpus, size=feature_size, \n",
    "                          window=window_context, min_count=min_word_count,\n",
    "                          sample=sample, iter=1000)\n"
   ]
  },
  {
   "cell_type": "code",
   "execution_count": 40,
   "metadata": {
    "collapsed": false
   },
   "outputs": [],
   "source": [
    "similar_words = {search_term: [item[0] for item in w2v_model.wv.most_similar([search_term], topn=5)]\n",
    "                  for search_term in ['good','superior','violent', 'romantic', 'nasty', 'unfortunate', \n",
    "                                      'predictable', 'hilarious', 'fascinating', 'boring','confused', 'sensitive',\n",
    "                                     'imaginative','senseless', 'bland','disappointing']}\n"
   ]
  },
  {
   "cell_type": "code",
   "execution_count": 41,
   "metadata": {
    "collapsed": false
   },
   "outputs": [
    {
     "data": {
      "text/plain": [
       "{'bland': ['dull', 'lifeless', 'forgettable', 'uninspired', 'unconvincing'],\n",
       " 'boring': ['dull', 'pointless', 'tedious', 'predictable', 'uninteresting'],\n",
       " 'confused': ['irritated', 'puzzled', 'disturbed', 'frustrated', 'annoyed'],\n",
       " 'disappointing': ['unsatisfying',\n",
       "  'disappointed',\n",
       "  'enjoyable',\n",
       "  'surprising',\n",
       "  'satisfying'],\n",
       " 'fascinating': ['compelling',\n",
       "  'enthralling',\n",
       "  'captivating',\n",
       "  'unique',\n",
       "  'vivid'],\n",
       " 'good': ['decent', 'great', 'nice', 'bad', 'fine'],\n",
       " 'hilarious': ['funny', 'hysterical', 'priceless', 'comical', 'humorous'],\n",
       " 'imaginative': ['inventive',\n",
       "  'innovative',\n",
       "  'ingenious',\n",
       "  'intricate',\n",
       "  'creative'],\n",
       " 'nasty': ['sadistic', 'sleazy', 'gory', 'icky', 'vicious'],\n",
       " 'predictable': ['clichéd', 'formulaic', 'contrived', 'implausible', 'dull'],\n",
       " 'romantic': ['romance',\n",
       "  'screwball',\n",
       "  'bittersweet',\n",
       "  'sentimental',\n",
       "  'delightful'],\n",
       " 'senseless': ['pointless',\n",
       "  'meaningless',\n",
       "  'disgusting',\n",
       "  'sickening',\n",
       "  'boring'],\n",
       " 'sensitive': ['sincere', 'passionate', 'mature', 'delicate', 'confident'],\n",
       " 'superior': ['inferior', 'weaker', 'truer', 'classier', 'maligned'],\n",
       " 'unfortunate': ['unacceptable',\n",
       "  'disastrous',\n",
       "  'dubious',\n",
       "  'inadequate',\n",
       "  'important'],\n",
       " 'violent': ['brutal', 'graphic', 'gruesome', 'sadistic', 'violence']}"
      ]
     },
     "execution_count": 41,
     "metadata": {},
     "output_type": "execute_result"
    }
   ],
   "source": [
    "similar_words"
   ]
  },
  {
   "cell_type": "code",
   "execution_count": 8,
   "metadata": {
    "collapsed": false
   },
   "outputs": [],
   "source": [
    "#w2v_model.wv.save_word2vec_format(fname = 'imdb_word2vec.txt')\n",
    "file = 'C:/Users/tghosh/Work/Data Science/Transfer Learning/Chapter-7/Data/word2vec/imdb_word2vec.txt'\n",
    "from gensim.models import KeyedVectors\n",
    "word_vectors = KeyedVectors.load_word2vec_format(file, binary=False)"
   ]
  },
  {
   "cell_type": "code",
   "execution_count": 12,
   "metadata": {
    "collapsed": false
   },
   "outputs": [
    {
     "data": {
      "text/html": [
       "<div>\n",
       "<table border=\"1\" class=\"dataframe\">\n",
       "  <thead>\n",
       "    <tr style=\"text-align: right;\">\n",
       "      <th></th>\n",
       "      <th>0</th>\n",
       "      <th>1</th>\n",
       "      <th>2</th>\n",
       "      <th>3</th>\n",
       "      <th>4</th>\n",
       "    </tr>\n",
       "  </thead>\n",
       "  <tbody>\n",
       "    <tr>\n",
       "      <th>bland</th>\n",
       "      <td>dull</td>\n",
       "      <td>lifeless</td>\n",
       "      <td>forgettable</td>\n",
       "      <td>uninspired</td>\n",
       "      <td>unconvincing</td>\n",
       "    </tr>\n",
       "    <tr>\n",
       "      <th>boring</th>\n",
       "      <td>dull</td>\n",
       "      <td>pointless</td>\n",
       "      <td>tedious</td>\n",
       "      <td>predictable</td>\n",
       "      <td>uninteresting</td>\n",
       "    </tr>\n",
       "    <tr>\n",
       "      <th>confused</th>\n",
       "      <td>irritated</td>\n",
       "      <td>puzzled</td>\n",
       "      <td>disturbed</td>\n",
       "      <td>frustrated</td>\n",
       "      <td>annoyed</td>\n",
       "    </tr>\n",
       "    <tr>\n",
       "      <th>disappointing</th>\n",
       "      <td>unsatisfying</td>\n",
       "      <td>disappointed</td>\n",
       "      <td>enjoyable</td>\n",
       "      <td>surprising</td>\n",
       "      <td>satisfying</td>\n",
       "    </tr>\n",
       "    <tr>\n",
       "      <th>fascinating</th>\n",
       "      <td>compelling</td>\n",
       "      <td>enthralling</td>\n",
       "      <td>captivating</td>\n",
       "      <td>unique</td>\n",
       "      <td>vivid</td>\n",
       "    </tr>\n",
       "    <tr>\n",
       "      <th>good</th>\n",
       "      <td>decent</td>\n",
       "      <td>great</td>\n",
       "      <td>nice</td>\n",
       "      <td>bad</td>\n",
       "      <td>fine</td>\n",
       "    </tr>\n",
       "    <tr>\n",
       "      <th>hilarious</th>\n",
       "      <td>funny</td>\n",
       "      <td>hysterical</td>\n",
       "      <td>priceless</td>\n",
       "      <td>comical</td>\n",
       "      <td>humorous</td>\n",
       "    </tr>\n",
       "    <tr>\n",
       "      <th>imaginative</th>\n",
       "      <td>inventive</td>\n",
       "      <td>innovative</td>\n",
       "      <td>ingenious</td>\n",
       "      <td>intricate</td>\n",
       "      <td>creative</td>\n",
       "    </tr>\n",
       "    <tr>\n",
       "      <th>nasty</th>\n",
       "      <td>sadistic</td>\n",
       "      <td>sleazy</td>\n",
       "      <td>gory</td>\n",
       "      <td>icky</td>\n",
       "      <td>vicious</td>\n",
       "    </tr>\n",
       "    <tr>\n",
       "      <th>predictable</th>\n",
       "      <td>clichéd</td>\n",
       "      <td>formulaic</td>\n",
       "      <td>contrived</td>\n",
       "      <td>implausible</td>\n",
       "      <td>dull</td>\n",
       "    </tr>\n",
       "    <tr>\n",
       "      <th>romantic</th>\n",
       "      <td>romance</td>\n",
       "      <td>screwball</td>\n",
       "      <td>bittersweet</td>\n",
       "      <td>sentimental</td>\n",
       "      <td>delightful</td>\n",
       "    </tr>\n",
       "    <tr>\n",
       "      <th>senseless</th>\n",
       "      <td>pointless</td>\n",
       "      <td>meaningless</td>\n",
       "      <td>disgusting</td>\n",
       "      <td>sickening</td>\n",
       "      <td>boring</td>\n",
       "    </tr>\n",
       "    <tr>\n",
       "      <th>sensitive</th>\n",
       "      <td>sincere</td>\n",
       "      <td>passionate</td>\n",
       "      <td>mature</td>\n",
       "      <td>delicate</td>\n",
       "      <td>confident</td>\n",
       "    </tr>\n",
       "    <tr>\n",
       "      <th>superior</th>\n",
       "      <td>inferior</td>\n",
       "      <td>weaker</td>\n",
       "      <td>truer</td>\n",
       "      <td>classier</td>\n",
       "      <td>maligned</td>\n",
       "    </tr>\n",
       "    <tr>\n",
       "      <th>unfortunate</th>\n",
       "      <td>unacceptable</td>\n",
       "      <td>disastrous</td>\n",
       "      <td>dubious</td>\n",
       "      <td>inadequate</td>\n",
       "      <td>important</td>\n",
       "    </tr>\n",
       "    <tr>\n",
       "      <th>violent</th>\n",
       "      <td>brutal</td>\n",
       "      <td>graphic</td>\n",
       "      <td>gruesome</td>\n",
       "      <td>sadistic</td>\n",
       "      <td>violence</td>\n",
       "    </tr>\n",
       "  </tbody>\n",
       "</table>\n",
       "</div>"
      ],
      "text/plain": [
       "                          0             1            2            3  \\\n",
       "bland                  dull      lifeless  forgettable   uninspired   \n",
       "boring                 dull     pointless      tedious  predictable   \n",
       "confused          irritated       puzzled    disturbed   frustrated   \n",
       "disappointing  unsatisfying  disappointed    enjoyable   surprising   \n",
       "fascinating      compelling   enthralling  captivating       unique   \n",
       "good                 decent         great         nice          bad   \n",
       "hilarious             funny    hysterical    priceless      comical   \n",
       "imaginative       inventive    innovative    ingenious    intricate   \n",
       "nasty              sadistic        sleazy         gory         icky   \n",
       "predictable         clichéd     formulaic    contrived  implausible   \n",
       "romantic            romance     screwball  bittersweet  sentimental   \n",
       "senseless         pointless   meaningless   disgusting    sickening   \n",
       "sensitive           sincere    passionate       mature     delicate   \n",
       "superior           inferior        weaker        truer     classier   \n",
       "unfortunate    unacceptable    disastrous      dubious   inadequate   \n",
       "violent              brutal       graphic     gruesome     sadistic   \n",
       "\n",
       "                           4  \n",
       "bland           unconvincing  \n",
       "boring         uninteresting  \n",
       "confused             annoyed  \n",
       "disappointing     satisfying  \n",
       "fascinating            vivid  \n",
       "good                    fine  \n",
       "hilarious           humorous  \n",
       "imaginative         creative  \n",
       "nasty                vicious  \n",
       "predictable             dull  \n",
       "romantic          delightful  \n",
       "senseless             boring  \n",
       "sensitive          confident  \n",
       "superior            maligned  \n",
       "unfortunate        important  \n",
       "violent             violence  "
      ]
     },
     "execution_count": 12,
     "metadata": {},
     "output_type": "execute_result"
    }
   ],
   "source": [
    "similar_words = {search_term: [item[0] for item in word_vectors.wv.most_similar([search_term], topn=5)]\n",
    "                  for search_term in ['good','superior','violent', 'romantic', 'nasty', 'unfortunate', \n",
    "                                      'predictable', 'hilarious', 'fascinating', 'boring','confused', 'sensitive',\n",
    "                                     'imaginative','senseless', 'bland','disappointing']}\n",
    "pd.DataFrame(similar_words).transpose()"
   ]
  },
  {
   "cell_type": "code",
   "execution_count": 45,
   "metadata": {
    "collapsed": false
   },
   "outputs": [
    {
     "data": {
      "image/png": "[encoded data removed]",
      "text/plain": [
       "<matplotlib.figure.Figure at 0x2c4814a5c18>"
      ]
     },
     "metadata": {},
     "output_type": "display_data"
    }
   ],
   "source": [
    "from sklearn.manifold import TSNE\n",
    "import numpy as np\n",
    "import matplotlib.pyplot as plt\n",
    "pd.options.display.max_colwidth = 200\n",
    "%matplotlib inline\n",
    "words = sum([[k] + v for k, v in similar_words.items()], [])\n",
    "wvs = w2v_model.wv[words]\n",
    "\n",
    "tsne = TSNE(n_components=2, random_state=0, n_iter=10000, perplexity=2)\n",
    "np.set_printoptions(suppress=True)\n",
    "T = tsne.fit_transform(wvs)\n",
    "labels = words\n",
    "\n",
    "plt.figure(figsize=(14, 8))\n",
    "plt.scatter(T[:, 0], T[:, 1], c='orange', edgecolors='r')\n",
    "for label, x, y in zip(labels, T[:, 0], T[:, 1]):\n",
    "    plt.annotate(label, xy=(x+1, y+1), xytext=(0, 0), textcoords='offset points')"
   ]
  },
  {
   "cell_type": "code",
   "execution_count": null,
   "metadata": {
    "collapsed": true
   },
   "outputs": [],
   "source": []
  }
 ],
 "metadata": {
  "kernelspec": {
   "display_name": "Python 3",
   "language": "python",
   "name": "python3"
  },
  "language_info": {
   "codemirror_mode": {
    "name": "ipython",
    "version": 3
   },
   "file_extension": ".py",
   "mimetype": "text/x-python",
   "name": "python",
   "nbconvert_exporter": "python",
   "pygments_lexer": "ipython3",
   "version": "3.6.0"
  }
 },
 "nbformat": 4,
 "nbformat_minor": 2
}
